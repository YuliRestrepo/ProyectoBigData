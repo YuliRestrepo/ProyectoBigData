{
 "cells": [
  {
   "cell_type": "markdown",
   "metadata": {},
   "source": [
    "# Web Scraping - El Tiempo\n",
    "Integrantes:\n",
    "\n",
    "-Dayana Rodriguez\n",
    "\n",
    "-Yulissa Restrepo\n",
    "\n",
    "-Valentina Correa\n",
    "\n",
    "-Nefrety Sánchez"
   ]
  },
  {
   "cell_type": "code",
   "execution_count": 1,
   "metadata": {},
   "outputs": [],
   "source": [
    "#pip install webdriver-manager\n",
    "#pip install selenium\n",
    "#pip install beautifulsoup4"
   ]
  },
  {
   "cell_type": "code",
   "execution_count": 2,
   "metadata": {},
   "outputs": [],
   "source": [
    "#from selenium.webdriver import Chrome\n",
    "#from webdriver_manager.chrome import ChromeDriverManager\n",
    "#webdriver = Chrome(ChromeDriverManager().install())"
   ]
  },
  {
   "cell_type": "markdown",
   "metadata": {},
   "source": [
    "### Extracción de datos"
   ]
  },
  {
   "cell_type": "code",
   "execution_count": 3,
   "metadata": {},
   "outputs": [
    {
     "name": "stdout",
     "output_type": "stream",
     "text": [
      "{'title': 'Así nació Windows, el ‘rey’ del ‘software’, que cumplió 35 años', 'link': 'https://www.eltiempo.com/tecnosfera/novedades-tecnologia/asi-nacio-windows-el-rey-del-software-que-cumplio-35-anos-551940', 'description': 'En medio de un inicio complicado, Microsoft trascendió épocas.', 'category': 'Novedades Tecnología', 'published': 'Mon, 30 Nov 2020 15:59:10 +0000'} \n",
      "\n",
      "{'title': 'Apple vs Facebook: qué hay detrás esta gran rivalidad tecnológica', 'link': 'https://www.eltiempo.com/tecnosfera/novedades-tecnologia/apple-vs-facebook-que-hay-detras-de-la-larga-rivalidad-entre-las-dos-companias-tecnologicas-551446', 'description': 'Apple acusa a la red social Facebook de tratar a sus usuarios como un producto.&nbsp;', 'category': 'Novedades Tecnología', 'published': 'Mon, 30 Nov 2020 13:40:30 +0000'} \n",
      "\n",
      "{'title': 'Multan a Apple por mentir sobre resistencia al agua de su iPhone', 'link': 'https://www.eltiempo.com/tecnosfera/novedades-tecnologia/imponen-millonaria-multa-a-apple-por-mentir-sobre-resistencia-al-agua-de-su-iphone-551924', 'description': 'Las autoridades italianas impusieron la suma de 10 millones de euros al gigante tecnológico.', 'category': 'Novedades Tecnología', 'published': 'Mon, 30 Nov 2020 13:35:34 +0000'} \n",
      "\n",
      "{'title': 'Reino Unido prohíbe la tecnología 5G de Huawei desde septiembre', 'link': 'https://www.eltiempo.com/tecnosfera/novedades-tecnologia/reino-unido-prohibe-la-tecnologia-5g-de-huawei-desde-septiembre-551912', 'description': 'El plan del gobierno británico es eliminar todo el despliegue de la compañía china para 2027.', 'category': 'Novedades Tecnología', 'published': 'Mon, 30 Nov 2020 12:49:43 +0000'} \n",
      "\n",
      "{'title': 'Paso a paso: así es el trámite para la cédula digital', 'link': 'https://www.eltiempo.com/tecnosfera/novedades-tecnologia/cedula-digital-como-es-el-tramite-para-sacar-el-documento-en-colombia-551875', 'description': 'El procedimiento es fácil y dura pocos minutos. Le contamos cómo se hace.', 'category': 'Novedades Tecnología', 'published': 'Mon, 30 Nov 2020 07:44:16 +0000'} \n",
      "\n",
      "{'title': \"Con estos 'tips' podrá consolidar su página web empresarial con éxito\", 'link': 'https://www.eltiempo.com/tecnosfera/tutoriales-tecnologia/consejos-para-consolidar-su-pagina-web-empresarial-551837', 'description': 'Una página bien consolidada puede ayudarle a tener más ventas, recordación y llegar a más personas.&nbsp;', 'category': 'Tutoriales Tecnología', 'published': 'Mon, 30 Nov 2020 04:33:22 +0000'} \n",
      "\n",
      "{'title': 'La herramienta Microsoft que monitorea cuánto estás trabajando', 'link': 'https://www.eltiempo.com/tecnosfera/novedades-tecnologia/microsoft-lanza-productivity-score-la-herramienta-para-medir-el-trabajo-551530', 'description': 'Se trata de Productivity Score y mide acciones realizadas en el correo, Word, Teams, entre otras.', 'category': 'Novedades Tecnología', 'published': 'Mon, 30 Nov 2020 02:10:31 +0000'} \n",
      "\n",
      "{'title': 'Así es la app de Google que le paga por hacer tareas con su celular', 'link': 'https://www.eltiempo.com/tecnosfera/apps/task-mate-la-app-de-google-que-paga-por-hacer-tareas-desde-su-celular-550825', 'description': 'Por el momento esta innovadora herramienta solo está disponible para usuarios en India.', 'category': 'Apps', 'published': 'Mon, 30 Nov 2020 02:09:35 +0000'} \n",
      "\n",
      "{'title': 'Comienzan las filtraciones del iPhone 13, esto se sabe hasta ahora', 'link': 'https://www.eltiempo.com/tecnosfera/dispositivos/iphone-13-que-dicen-las-filtraciones-sobre-el-nuevo-diseno-de-apple-551004', 'description': 'La principal novedad y más revolucionaria sería las baterías de placa blanda.&nbsp;', 'category': 'Dispositivos', 'published': 'Mon, 30 Nov 2020 02:08:24 +0000'} \n",
      "\n",
      "{'title': 'Samsung presentó su nuevo celular plegable en Colombia', 'link': 'https://www.eltiempo.com/tecnosfera/dispositivos/samsung-presento-celular-plegable-galaxy-z-fold-2-precio-caracteristicas-y-disponibilidad-551265', 'description': 'El Galaxy Z Fold2 ya está disponible en el país por 8.999.899 pesos en diferentes tiendas.&nbsp;', 'category': 'Dispositivos', 'published': 'Mon, 30 Nov 2020 02:07:42 +0000'} \n",
      "\n"
     ]
    }
   ],
   "source": [
    "import requests\n",
    "import urllib.request\n",
    "from bs4 import BeautifulSoup\n",
    "from selenium.webdriver import Chrome\n",
    "from webdriver_manager.chrome import ChromeDriverManager\n",
    "\n",
    "class Scraping(object):\n",
    "    \"\"\" Class used scraping resources\"\"\"\n",
    "\n",
    "    def rss(self, url: str = '') -> list:\n",
    "        article_list = []\n",
    "        try:\n",
    "            r = requests.get(url)\n",
    "            soup = BeautifulSoup(r.content, features='xml')\n",
    "            articles = soup.findAll('item')\n",
    "            for a in articles:\n",
    "                title = a.find('title').text\n",
    "                link = a.find('link').text\n",
    "                description = a.find('description').text\n",
    "                category = a.find('category').text\n",
    "                published = a.find('pubDate').text\n",
    "                article = {\n",
    "                    'title': title,\n",
    "                    'link': link, \n",
    "                    'description': description,\n",
    "                    'category' : category,\n",
    "                    'published': published,\n",
    "                    #'items': soup.findAll('item')\n",
    "                    }\n",
    "                article_list.append(article)\n",
    "            return article_list\n",
    "        except Exception as e:\n",
    "            print('The scraping rss job failed. {0}'.format(e))\n",
    "            return list()\n",
    "\n",
    "    def web(self, url: str) -> list:\n",
    "        try:\n",
    "            data = []\n",
    "            #webdriver = Chrome(ChromeDriverManager().install())\n",
    "            webdriver = r\"C:\\Users\\ASUS\\.wdm\\drivers\\chromedriver\\win32\\86.0.4240.22\\chromedriver.exe\"\n",
    "            driver = Chrome(webdriver)\n",
    "\n",
    "            parser = 'html.parser'  # or 'lxml' (preferred) or 'html5lib', if installed\n",
    "            resp = urllib.request.urlopen(url)\n",
    "            soup = BeautifulSoup(resp, parser, from_encoding=resp.info().get_param('charset'))\n",
    "            links = list()\n",
    "            for row in soup.find_all('a', href=True):\n",
    "                path = str(row['href'])\n",
    "                if path.find('/') == 0 and path.count('/') >= 1:\n",
    "                    if (url + path) not in links:\n",
    "                        links.append(url + path)\n",
    "\n",
    "            for page in links:\n",
    "                driver.get(page)\n",
    "                if str(driver.title) != 'Error404':\n",
    "                    title = driver.title\n",
    "                    text = driver.find_element_by_tag_name(\"body\").text\n",
    "                    if text != '':\n",
    "                        print(driver.page_source)\n",
    "                        row = [title, text]\n",
    "                        print(row)\n",
    "                        data.append(row)\n",
    "            driver.close()\n",
    "            return data\n",
    "        except Exception as e:\n",
    "            print('The scraping web job failed. {0}'.format(e))\n",
    "            return list()\n",
    "        \n",
    "        \n",
    "urls = ['https://www.eltiempo.com/rss/tecnosfera.xml',\n",
    "       'https://www.eltiempo.com/rss/tecnosfera/novedades-tecnologia.xml',\n",
    "       'https://www.eltiempo.com/rss/tecnosfera/apps.xml',\n",
    "       'https://www.eltiempo.com/rss/tecnosfera/dispositivos.xml',\n",
    "       'https://www.eltiempo.com/rss/tecnosfera/tutoriales-tecnologia.xml',\n",
    "       'https://www.eltiempo.com/rss/tecnosfera/videojuegos.xml'\n",
    "       ]\n",
    "\n",
    "sc = Scraping()\n",
    "articles = list()\n",
    "for url in urls:\n",
    "    articles.extend(sc.rss(url=url))\n",
    "\n",
    "for art in articles:\n",
    "    print(art, \"\\n\")"
   ]
  },
  {
   "cell_type": "markdown",
   "metadata": {},
   "source": [
    "### Exportarlo a un archivo"
   ]
  },
  {
   "cell_type": "code",
   "execution_count": 4,
   "metadata": {},
   "outputs": [],
   "source": [
    "import pandas as pd\n",
    "\n",
    "df = pd.DataFrame(articles)\n",
    "\n",
    "writer = pd.ExcelWriter('web_scraping1.xlsx')\n",
    "df.to_excel(writer, sheet_name='Sheet1')\n",
    "writer.save()"
   ]
  },
  {
   "cell_type": "markdown",
   "metadata": {},
   "source": [
    "### Importar DataSet"
   ]
  },
  {
   "cell_type": "code",
   "execution_count": 5,
   "metadata": {},
   "outputs": [
    {
     "data": {
      "text/html": [
       "<div>\n",
       "<style scoped>\n",
       "    .dataframe tbody tr th:only-of-type {\n",
       "        vertical-align: middle;\n",
       "    }\n",
       "\n",
       "    .dataframe tbody tr th {\n",
       "        vertical-align: top;\n",
       "    }\n",
       "\n",
       "    .dataframe thead th {\n",
       "        text-align: right;\n",
       "    }\n",
       "</style>\n",
       "<table border=\"1\" class=\"dataframe\">\n",
       "  <thead>\n",
       "    <tr style=\"text-align: right;\">\n",
       "      <th></th>\n",
       "      <th>num</th>\n",
       "      <th>title</th>\n",
       "      <th>link</th>\n",
       "      <th>description</th>\n",
       "      <th>category</th>\n",
       "      <th>published</th>\n",
       "    </tr>\n",
       "  </thead>\n",
       "  <tbody>\n",
       "    <tr>\n",
       "      <th>0</th>\n",
       "      <td>0</td>\n",
       "      <td>Así nació Windows, el ‘rey’ del ‘software’, qu...</td>\n",
       "      <td>https://www.eltiempo.com/tecnosfera/novedades-...</td>\n",
       "      <td>En medio de un inicio complicado, Microsoft tr...</td>\n",
       "      <td>Novedades Tecnología</td>\n",
       "      <td>Mon, 30 Nov 2020 15:59:10 +0000</td>\n",
       "    </tr>\n",
       "    <tr>\n",
       "      <th>1</th>\n",
       "      <td>1</td>\n",
       "      <td>Apple vs Facebook: qué hay detrás esta gran ri...</td>\n",
       "      <td>https://www.eltiempo.com/tecnosfera/novedades-...</td>\n",
       "      <td>Apple acusa a la red social Facebook de tratar...</td>\n",
       "      <td>Novedades Tecnología</td>\n",
       "      <td>Mon, 30 Nov 2020 13:40:30 +0000</td>\n",
       "    </tr>\n",
       "    <tr>\n",
       "      <th>2</th>\n",
       "      <td>2</td>\n",
       "      <td>Multan a Apple por mentir sobre resistencia al...</td>\n",
       "      <td>https://www.eltiempo.com/tecnosfera/novedades-...</td>\n",
       "      <td>Las autoridades italianas impusieron la suma d...</td>\n",
       "      <td>Novedades Tecnología</td>\n",
       "      <td>Mon, 30 Nov 2020 13:35:34 +0000</td>\n",
       "    </tr>\n",
       "    <tr>\n",
       "      <th>3</th>\n",
       "      <td>3</td>\n",
       "      <td>Reino Unido prohíbe la tecnología 5G de Huawei...</td>\n",
       "      <td>https://www.eltiempo.com/tecnosfera/novedades-...</td>\n",
       "      <td>El plan del gobierno británico es eliminar tod...</td>\n",
       "      <td>Novedades Tecnología</td>\n",
       "      <td>Mon, 30 Nov 2020 12:49:43 +0000</td>\n",
       "    </tr>\n",
       "    <tr>\n",
       "      <th>4</th>\n",
       "      <td>4</td>\n",
       "      <td>Paso a paso: así es el trámite para la cédula ...</td>\n",
       "      <td>https://www.eltiempo.com/tecnosfera/novedades-...</td>\n",
       "      <td>El procedimiento es fácil y dura pocos minutos...</td>\n",
       "      <td>Novedades Tecnología</td>\n",
       "      <td>Mon, 30 Nov 2020 07:44:16 +0000</td>\n",
       "    </tr>\n",
       "    <tr>\n",
       "      <th>5</th>\n",
       "      <td>5</td>\n",
       "      <td>Con estos 'tips' podrá consolidar su página we...</td>\n",
       "      <td>https://www.eltiempo.com/tecnosfera/tutoriales...</td>\n",
       "      <td>Una página bien consolidada puede ayudarle a t...</td>\n",
       "      <td>Tutoriales Tecnología</td>\n",
       "      <td>Mon, 30 Nov 2020 04:33:22 +0000</td>\n",
       "    </tr>\n",
       "    <tr>\n",
       "      <th>6</th>\n",
       "      <td>6</td>\n",
       "      <td>La herramienta Microsoft que monitorea cuánto ...</td>\n",
       "      <td>https://www.eltiempo.com/tecnosfera/novedades-...</td>\n",
       "      <td>Se trata de Productivity Score y mide acciones...</td>\n",
       "      <td>Novedades Tecnología</td>\n",
       "      <td>Mon, 30 Nov 2020 02:10:31 +0000</td>\n",
       "    </tr>\n",
       "    <tr>\n",
       "      <th>7</th>\n",
       "      <td>7</td>\n",
       "      <td>Así es la app de Google que le paga por hacer ...</td>\n",
       "      <td>https://www.eltiempo.com/tecnosfera/apps/task-...</td>\n",
       "      <td>Por el momento esta innovadora herramienta sol...</td>\n",
       "      <td>Apps</td>\n",
       "      <td>Mon, 30 Nov 2020 02:09:35 +0000</td>\n",
       "    </tr>\n",
       "    <tr>\n",
       "      <th>8</th>\n",
       "      <td>8</td>\n",
       "      <td>Comienzan las filtraciones del iPhone 13, esto...</td>\n",
       "      <td>https://www.eltiempo.com/tecnosfera/dispositiv...</td>\n",
       "      <td>La principal novedad y más revolucionaria serí...</td>\n",
       "      <td>Dispositivos</td>\n",
       "      <td>Mon, 30 Nov 2020 02:08:24 +0000</td>\n",
       "    </tr>\n",
       "    <tr>\n",
       "      <th>9</th>\n",
       "      <td>9</td>\n",
       "      <td>Samsung presentó su nuevo celular plegable en ...</td>\n",
       "      <td>https://www.eltiempo.com/tecnosfera/dispositiv...</td>\n",
       "      <td>El Galaxy Z Fold2 ya está disponible en el paí...</td>\n",
       "      <td>Dispositivos</td>\n",
       "      <td>Mon, 30 Nov 2020 02:07:42 +0000</td>\n",
       "    </tr>\n",
       "  </tbody>\n",
       "</table>\n",
       "</div>"
      ],
      "text/plain": [
       "   num                                              title  \\\n",
       "0    0  Así nació Windows, el ‘rey’ del ‘software’, qu...   \n",
       "1    1  Apple vs Facebook: qué hay detrás esta gran ri...   \n",
       "2    2  Multan a Apple por mentir sobre resistencia al...   \n",
       "3    3  Reino Unido prohíbe la tecnología 5G de Huawei...   \n",
       "4    4  Paso a paso: así es el trámite para la cédula ...   \n",
       "5    5  Con estos 'tips' podrá consolidar su página we...   \n",
       "6    6  La herramienta Microsoft que monitorea cuánto ...   \n",
       "7    7  Así es la app de Google que le paga por hacer ...   \n",
       "8    8  Comienzan las filtraciones del iPhone 13, esto...   \n",
       "9    9  Samsung presentó su nuevo celular plegable en ...   \n",
       "\n",
       "                                                link  \\\n",
       "0  https://www.eltiempo.com/tecnosfera/novedades-...   \n",
       "1  https://www.eltiempo.com/tecnosfera/novedades-...   \n",
       "2  https://www.eltiempo.com/tecnosfera/novedades-...   \n",
       "3  https://www.eltiempo.com/tecnosfera/novedades-...   \n",
       "4  https://www.eltiempo.com/tecnosfera/novedades-...   \n",
       "5  https://www.eltiempo.com/tecnosfera/tutoriales...   \n",
       "6  https://www.eltiempo.com/tecnosfera/novedades-...   \n",
       "7  https://www.eltiempo.com/tecnosfera/apps/task-...   \n",
       "8  https://www.eltiempo.com/tecnosfera/dispositiv...   \n",
       "9  https://www.eltiempo.com/tecnosfera/dispositiv...   \n",
       "\n",
       "                                         description               category  \\\n",
       "0  En medio de un inicio complicado, Microsoft tr...   Novedades Tecnología   \n",
       "1  Apple acusa a la red social Facebook de tratar...   Novedades Tecnología   \n",
       "2  Las autoridades italianas impusieron la suma d...   Novedades Tecnología   \n",
       "3  El plan del gobierno británico es eliminar tod...   Novedades Tecnología   \n",
       "4  El procedimiento es fácil y dura pocos minutos...   Novedades Tecnología   \n",
       "5  Una página bien consolidada puede ayudarle a t...  Tutoriales Tecnología   \n",
       "6  Se trata de Productivity Score y mide acciones...   Novedades Tecnología   \n",
       "7  Por el momento esta innovadora herramienta sol...                   Apps   \n",
       "8  La principal novedad y más revolucionaria serí...           Dispositivos   \n",
       "9  El Galaxy Z Fold2 ya está disponible en el paí...           Dispositivos   \n",
       "\n",
       "                         published  \n",
       "0  Mon, 30 Nov 2020 15:59:10 +0000  \n",
       "1  Mon, 30 Nov 2020 13:40:30 +0000  \n",
       "2  Mon, 30 Nov 2020 13:35:34 +0000  \n",
       "3  Mon, 30 Nov 2020 12:49:43 +0000  \n",
       "4  Mon, 30 Nov 2020 07:44:16 +0000  \n",
       "5  Mon, 30 Nov 2020 04:33:22 +0000  \n",
       "6  Mon, 30 Nov 2020 02:10:31 +0000  \n",
       "7  Mon, 30 Nov 2020 02:09:35 +0000  \n",
       "8  Mon, 30 Nov 2020 02:08:24 +0000  \n",
       "9  Mon, 30 Nov 2020 02:07:42 +0000  "
      ]
     },
     "execution_count": 5,
     "metadata": {},
     "output_type": "execute_result"
    }
   ],
   "source": [
    "data_raw = pd.read_excel('web_scraping1.xlsx')\n",
    "data_raw.rename(columns={'Unnamed: 0': 'num'}, inplace=True)\n",
    "data_raw"
   ]
  },
  {
   "cell_type": "markdown",
   "metadata": {},
   "source": [
    "### Diagrama de frecuencias"
   ]
  },
  {
   "cell_type": "code",
   "execution_count": 6,
   "metadata": {},
   "outputs": [
    {
     "data": {
      "text/plain": [
       "<matplotlib.axes._subplots.AxesSubplot at 0x166f8950cc8>"
      ]
     },
     "execution_count": 6,
     "metadata": {},
     "output_type": "execute_result"
    },
    {
     "data": {
      "image/png": "[encoded data removed]",
      "text/plain": [
       "<Figure size 576x576 with 1 Axes>"
      ]
     },
     "metadata": {},
     "output_type": "display_data"
    }
   ],
   "source": [
    "import matplotlib.pyplot as plt\n",
    "data_raw['category'].value_counts().plot(kind='pie', title = 'CATEGORIAS', figsize=(8,8))"
   ]
  },
  {
   "cell_type": "code",
   "execution_count": 10,
   "metadata": {},
   "outputs": [
    {
     "data": {
      "text/html": [
       "<div>\n",
       "<style scoped>\n",
       "    .dataframe tbody tr th:only-of-type {\n",
       "        vertical-align: middle;\n",
       "    }\n",
       "\n",
       "    .dataframe tbody tr th {\n",
       "        vertical-align: top;\n",
       "    }\n",
       "\n",
       "    .dataframe thead th {\n",
       "        text-align: right;\n",
       "    }\n",
       "</style>\n",
       "<table border=\"1\" class=\"dataframe\">\n",
       "  <thead>\n",
       "    <tr style=\"text-align: right;\">\n",
       "      <th></th>\n",
       "      <th>category</th>\n",
       "      <th>num</th>\n",
       "    </tr>\n",
       "  </thead>\n",
       "  <tbody>\n",
       "    <tr>\n",
       "      <th>0</th>\n",
       "      <td>Apps</td>\n",
       "      <td>1</td>\n",
       "    </tr>\n",
       "    <tr>\n",
       "      <th>1</th>\n",
       "      <td>Dispositivos</td>\n",
       "      <td>2</td>\n",
       "    </tr>\n",
       "    <tr>\n",
       "      <th>2</th>\n",
       "      <td>Novedades Tecnología</td>\n",
       "      <td>6</td>\n",
       "    </tr>\n",
       "    <tr>\n",
       "      <th>3</th>\n",
       "      <td>Tutoriales Tecnología</td>\n",
       "      <td>1</td>\n",
       "    </tr>\n",
       "  </tbody>\n",
       "</table>\n",
       "</div>"
      ],
      "text/plain": [
       "                category  num\n",
       "0                   Apps    1\n",
       "1           Dispositivos    2\n",
       "2   Novedades Tecnología    6\n",
       "3  Tutoriales Tecnología    1"
      ]
     },
     "execution_count": 10,
     "metadata": {},
     "output_type": "execute_result"
    }
   ],
   "source": [
    "frecuency = data_raw.groupby(\"category\", as_index=False)['num'].count()\n",
    "frecuency.head(10)"
   ]
  },
  {
   "cell_type": "markdown",
   "metadata": {},
   "source": [
    "### Diagrama de dispersión"
   ]
  },
  {
   "cell_type": "code",
   "execution_count": 7,
   "metadata": {},
   "outputs": [
    {
     "data": {
      "text/plain": [
       "<matplotlib.collections.PathCollection at 0x166f8a59988>"
      ]
     },
     "execution_count": 7,
     "metadata": {},
     "output_type": "execute_result"
    },
    {
     "data": {
      "image/png": "[encoded data removed]",
      "text/plain": [
       "<Figure size 432x288 with 1 Axes>"
      ]
     },
     "metadata": {
      "needs_background": "light"
     },
     "output_type": "display_data"
    }
   ],
   "source": [
    "import numpy as np\n",
    "dataframe = pd.DataFrame({'category': np.random.uniform(size=500)})\n",
    "plt.scatter(dataframe.index, dataframe['category'])"
   ]
  },
  {
   "cell_type": "code",
   "execution_count": null,
   "metadata": {},
   "outputs": [],
   "source": []
  }
 ],
 "metadata": {
  "kernelspec": {
   "display_name": "Python 3",
   "language": "python",
   "name": "python3"
  },
  "language_info": {
   "codemirror_mode": {
    "name": "ipython",
    "version": 3
   },
   "file_extension": ".py",
   "mimetype": "text/x-python",
   "name": "python",
   "nbconvert_exporter": "python",
   "pygments_lexer": "ipython3",
   "version": "3.7.6"
  }
 },
 "nbformat": 4,
 "nbformat_minor": 4
}
